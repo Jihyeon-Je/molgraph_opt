{
 "cells": [
  {
   "cell_type": "code",
   "execution_count": 46,
   "metadata": {},
   "outputs": [],
   "source": [
    "from rdkit import Chem\n",
    "from rdkit.Chem import QED, RDConfig, Descriptors, DataStructs, AllChem\n",
    "\n",
    "import pandas as pd\n",
    "import os\n",
    "import sys\n",
    "sys.path.append(os.path.join(RDConfig.RDContribDir, 'SA_Score'))\n",
    "import sascorer\n",
    "import networkx as nx\n",
    "import matplotlib.pyplot as plt\n"
   ]
  },
  {
   "cell_type": "code",
   "execution_count": 35,
   "metadata": {},
   "outputs": [],
   "source": [
    "# Modified from https://github.com/bowenliu16/rl_graph_generation\n",
    "def penalized_logp(s):\n",
    "    if s is None: return -100.0\n",
    "    mol = Chem.MolFromSmiles(s)\n",
    "    if mol is None: return -100.0\n",
    "\n",
    "    #edit after evaluating across the entire dataset\n",
    "    logP_mean = 2.4570953396190123\n",
    "    logP_std = 1.434324401111988\n",
    "    SA_mean = -3.0525811293166134\n",
    "    SA_std = 0.8335207024513095\n",
    "    cycle_mean = -0.0485696876403053\n",
    "    cycle_std = 0.2860212110245455\n",
    "\n",
    "    log_p = Descriptors.MolLogP(mol)\n",
    "    SA = -sascorer.calculateScore(mol)\n",
    "    \n",
    "    # cycle score\n",
    "    cycle_list = nx.cycle_basis(nx.Graph(Chem.rdmolops.GetAdjacencyMatrix(mol)))\n",
    "    if len(cycle_list) == 0:\n",
    "        cycle_length = 0\n",
    "    else:\n",
    "        cycle_length = max([len(j) for j in cycle_list])\n",
    "    if cycle_length <= 6:\n",
    "        cycle_length = 0\n",
    "    else:\n",
    "        cycle_length = cycle_length - 6\n",
    "    cycle_score = -cycle_length\n",
    "\n",
    "    normalized_log_p = (log_p - logP_mean) / logP_std\n",
    "    normalized_SA = (SA - SA_mean) / SA_std\n",
    "    normalized_cycle = (cycle_score - cycle_mean) / cycle_std\n",
    "    \n",
    "    return normalized_log_p + normalized_SA + normalized_cycle\n",
    "\n",
    "def qed(s):\n",
    "    if s is None: return -100.0\n",
    "    mol = Chem.MolFromSmiles(s)\n",
    "    if mol is None: return -100.0\n",
    "    qed_score = QED.qed(mol)\n",
    "\n",
    "    qed_mean = 3.0343956\n",
    "    qed_std = 0.13719133\n",
    "    #implement again when full dataset compute complete\n",
    "    normalized_qed = (qed_score - qed_mean) / qed_std\n",
    "\n",
    "    return qed_score\n",
    "\n",
    "def calc_prop(s, score_type):\n",
    "    if score_type=='PLOGP':\n",
    "        return penalized_logp(s)\n",
    "    elif score_type=='QED':\n",
    "        return qed(s)\n",
    "    else:\n",
    "        return ValueError('input property type')\n",
    "    \n",
    "    "
   ]
  },
  {
   "cell_type": "code",
   "execution_count": 51,
   "metadata": {},
   "outputs": [],
   "source": [
    "#similarity-based virtual screening assumes that all compounds that are structurally similar to a query compound have similar biological activity\n",
    "#if the Tanimoto similarity is greater than 0.4, two structures are considered similar\n",
    "#set threshold = 0.4 - scores are very small on average (mean = 0.17) and the bulk is located below 0.4 (https://academic.oup.com/bioinformatics/article/24/13/i357/236514)\n",
    "\n",
    "def calc_similarity(s1, s2):\n",
    "    mol1 = Chem.MolFromSmiles(s1)\n",
    "    mol2 = Chem.MolFromSmiles(s2)\n",
    "    if mol1 is None or mol2 is None: return 0.0\n",
    "    fps_source = AllChem.GetMorganFingerprint(mol1, 2, useChirality=False)\n",
    "    fps_target = AllChem.GetMorganFingerprint(mol2, 2, useChirality=False)\n",
    "\n",
    "    sim_score = DataStructs.TanimotoSimilarity(fps_source, fps_target)\n",
    "    return sim_score\n"
   ]
  },
  {
   "cell_type": "code",
   "execution_count": 59,
   "metadata": {},
   "outputs": [],
   "source": [
    "#dataset from https://github.com/wengong-jin/iclr19-graph2graph/tree/master\n",
    "df_qed = pd.read_csv('/Users/jihyeonje/Desktop/data/qed/train_pairs.txt', header=None, sep=' ') #sim coef 0.4, qed from [0.7,0.8] to [0.9,1.0]\n",
    "df_plogp = pd.read_csv('/Users/jihyeonje/Desktop/data/logp04/train_pairs.txt', header=None, sep=' ') #sim coef 0.4 \n"
   ]
  },
  {
   "cell_type": "code",
   "execution_count": 184,
   "metadata": {},
   "outputs": [
    {
     "name": "stdout",
     "output_type": "stream",
     "text": [
      "\n"
     ]
    }
   ],
   "source": [
    "smi = df_qed[0][1]\n",
    "mol = Chem.MolFromSmiles(smi)\n",
    "\n",
    "#start processing 3D coordinates\n",
    "updated_mol= Chem.AddHs(mol)\n",
    "AllChem.EmbedMolecule(updated_mol)\n",
    "AllChem.UFFOptimizeMolecule(updated_mol)\n",
    "updated_mol.GetConformer()\n",
    "\n",
    "#to get atom type, coordinate, edges\n",
    "mblock = Chem.MolToMolBlock(updated_mol)\n",
    "print(mblock)\n",
    "\n"
   ]
  },
  {
   "attachments": {},
   "cell_type": "markdown",
   "metadata": {},
   "source": [
    "can ignore from down here"
   ]
  },
  {
   "cell_type": "code",
   "execution_count": null,
   "metadata": {},
   "outputs": [],
   "source": [
    "print()\n",
    "allcoors = []\n",
    "for i, atom in enumerate(updated_mol.GetAtoms()):\n",
    "    positions = updated_mol.GetConformer().GetAtomPosition(i)\n",
    "    atomdict = {\"type\": atom.GetSymbol(), 'x': positions.x, 'y': positions.y, 'z': positions.z}\n",
    "    allcoors.append(atomdict)"
   ]
  },
  {
   "cell_type": "code",
   "execution_count": 172,
   "metadata": {},
   "outputs": [],
   "source": [
    "def mol_to_nx(mol):\n",
    "    G = nx.Graph()\n",
    "\n",
    "    for atom in mol.GetAtoms():\n",
    "        G.add_node(atom.GetIdx(),\n",
    "                   atomic_num=atom.GetAtomicNum(),\n",
    "                   is_aromatic=atom.GetIsAromatic(),\n",
    "                   atom_symbol=atom.GetSymbol())\n",
    "        \n",
    "    for bond in mol.GetBonds():\n",
    "        G.add_edge(bond.GetBeginAtomIdx(),\n",
    "                   bond.GetEndAtomIdx(),\n",
    "                   weight=bond.GetBondTypeAsDouble(),\n",
    "                   bond_type=bond.GetBondType())\n",
    "        \n",
    "    return G"
   ]
  },
  {
   "cell_type": "code",
   "execution_count": 189,
   "metadata": {},
   "outputs": [
    {
     "name": "stdout",
     "output_type": "stream",
     "text": [
      "\n",
      "     RDKit          3D\n",
      "\n",
      " 50 53  0  0  0  0  0  0  0  0999 V2000\n",
      "    2.3717    2.2724    2.4154 O   0  0  0  0  0  0  0  0  0  0  0  0\n",
      "    2.0801    1.0913    2.0859 C   0  0  0  0  0  0  0  0  0  0  0  0\n",
      "    1.6502    0.1371    3.1733 C   0  0  0  0  0  0  0  0  0  0  0  0\n",
      "    1.5945   -1.2590    2.7104 N   0  0  0  0  0  0  0  0  0  0  0  0\n",
      "    2.8095   -2.0441    2.6850 C   0  0  0  0  0  0  0  0  0  0  0  0\n",
      "    3.9143   -1.5197    2.9936 O   0  0  0  0  0  0  0  0  0  0  0  0\n",
      "    2.7831   -3.4783    2.2494 C   0  0  0  0  0  0  0  0  0  0  0  0\n",
      "    1.3520   -4.2932    3.0136 S   0  0  0  0  0  0  0  0  0  0  0  0\n",
      "    0.1827   -3.2211    2.1742 C   0  0  0  0  0  0  0  0  0  0  0  0\n",
      "   -0.9077   -3.7867    1.5057 C   0  0  0  0  0  0  0  0  0  0  0  0\n",
      "   -1.8474   -2.9690    0.8766 C   0  0  0  0  0  0  0  0  0  0  0  0\n",
      "   -1.7070   -1.5776    0.9160 C   0  0  0  0  0  0  0  0  0  0  0  0\n",
      "   -2.8744   -0.5508    0.0865 S   0  0  0  0  0  6  0  0  0  0  0  0\n",
      "   -4.2415   -1.1588    0.2385 O   0  0  0  0  0  0  0  0  0  0  0  0\n",
      "   -2.8857    0.8110    0.7244 O   0  0  0  0  0  0  0  0  0  0  0  0\n",
      "   -2.4440   -0.4417   -1.6089 N   0  0  0  0  0  0  0  0  0  0  0  0\n",
      "   -1.2133    0.3524   -1.8186 C   0  0  0  0  0  0  0  0  0  0  0  0\n",
      "   -1.5047    1.8120   -2.2145 C   0  0  0  0  0  0  0  0  0  0  0  0\n",
      "   -2.7163    2.2462   -1.6400 O   0  0  0  0  0  0  0  0  0  0  0  0\n",
      "   -3.8103    1.5677   -2.2320 C   0  0  0  0  0  0  0  0  0  0  0  0\n",
      "   -3.5662    0.0519   -2.4260 C   0  0  0  0  0  0  0  0  0  0  0  0\n",
      "   -0.6055   -1.0094    1.5694 C   0  0  0  0  0  0  0  0  0  0  0  0\n",
      "    0.3654   -1.8238    2.1862 C   0  0  0  0  0  0  0  0  0  0  0  0\n",
      "    2.1323    0.6931    0.7019 N   0  0  0  0  0  0  0  0  0  0  0  0\n",
      "    2.1571    1.6193   -0.3975 C   0  0  0  0  0  0  0  0  0  0  0  0\n",
      "    2.2843    1.1411   -1.7103 C   0  0  0  0  0  0  0  0  0  0  0  0\n",
      "    2.2783    2.0439   -2.7753 C   0  0  0  0  0  0  0  0  0  0  0  0\n",
      "    2.1459    3.4105   -2.5267 C   0  0  0  0  0  0  0  0  0  0  0  0\n",
      "    2.0181    3.8545   -1.2093 C   0  0  0  0  0  0  0  0  0  0  0  0\n",
      "    2.0232    2.9594   -0.1855 N   0  0  0  0  0  0  0  0  0  0  0  0\n",
      "    2.3548    0.2214    4.0290 H   0  0  0  0  0  0  0  0  0  0  0  0\n",
      "    0.6593    0.4515    3.5653 H   0  0  0  0  0  0  0  0  0  0  0  0\n",
      "    2.7150   -3.5361    1.1421 H   0  0  0  0  0  0  0  0  0  0  0  0\n",
      "    3.7074   -3.9984    2.5791 H   0  0  0  0  0  0  0  0  0  0  0  0\n",
      "   -1.0337   -4.8617    1.4816 H   0  0  0  0  0  0  0  0  0  0  0  0\n",
      "   -2.6835   -3.4209    0.3584 H   0  0  0  0  0  0  0  0  0  0  0  0\n",
      "   -0.5685    0.3384   -0.9154 H   0  0  0  0  0  0  0  0  0  0  0  0\n",
      "   -0.6187   -0.1224   -2.6278 H   0  0  0  0  0  0  0  0  0  0  0  0\n",
      "   -1.5298    1.9201   -3.3237 H   0  0  0  0  0  0  0  0  0  0  0  0\n",
      "   -0.6837    2.4613   -1.8457 H   0  0  0  0  0  0  0  0  0  0  0  0\n",
      "   -4.6908    1.7010   -1.5684 H   0  0  0  0  0  0  0  0  0  0  0  0\n",
      "   -4.0637    2.0414   -3.2060 H   0  0  0  0  0  0  0  0  0  0  0  0\n",
      "   -4.4936   -0.5216   -2.2128 H   0  0  0  0  0  0  0  0  0  0  0  0\n",
      "   -3.3284   -0.1370   -3.4960 H   0  0  0  0  0  0  0  0  0  0  0  0\n",
      "   -0.4870    0.0643    1.5485 H   0  0  0  0  0  0  0  0  0  0  0  0\n",
      "    2.1252   -0.3242    0.4681 H   0  0  0  0  0  0  0  0  0  0  0  0\n",
      "    2.3796    0.0804   -1.9057 H   0  0  0  0  0  0  0  0  0  0  0  0\n",
      "    2.3723    1.6841   -3.7917 H   0  0  0  0  0  0  0  0  0  0  0  0\n",
      "    2.1385    4.1177   -3.3458 H   0  0  0  0  0  0  0  0  0  0  0  0\n",
      "    1.9107    4.9103   -1.0002 H   0  0  0  0  0  0  0  0  0  0  0  0\n",
      "  1  2  2  0\n",
      "  2  3  1  0\n",
      "  3  4  1  0\n",
      "  4  5  1  0\n",
      "  5  6  2  0\n",
      "  5  7  1  0\n",
      "  7  8  1  0\n",
      "  8  9  1  0\n",
      "  9 10  2  0\n",
      " 10 11  1  0\n",
      " 11 12  2  0\n",
      " 12 13  1  0\n",
      " 13 14  2  0\n",
      " 13 15  2  0\n",
      " 13 16  1  0\n",
      " 16 17  1  0\n",
      " 17 18  1  0\n",
      " 18 19  1  0\n",
      " 19 20  1  0\n",
      " 20 21  1  0\n",
      " 12 22  1  0\n",
      " 22 23  2  0\n",
      "  2 24  1  0\n",
      " 24 25  1  0\n",
      " 25 26  2  0\n",
      " 26 27  1  0\n",
      " 27 28  2  0\n",
      " 28 29  1  0\n",
      " 29 30  2  0\n",
      " 23  4  1  0\n",
      " 30 25  1  0\n",
      " 23  9  1  0\n",
      " 21 16  1  0\n",
      "  3 31  1  0\n",
      "  3 32  1  0\n",
      "  7 33  1  0\n",
      "  7 34  1  0\n",
      " 10 35  1  0\n",
      " 11 36  1  0\n",
      " 17 37  1  0\n",
      " 17 38  1  0\n",
      " 18 39  1  0\n",
      " 18 40  1  0\n",
      " 20 41  1  0\n",
      " 20 42  1  0\n",
      " 21 43  1  0\n",
      " 21 44  1  0\n",
      " 22 45  1  0\n",
      " 24 46  1  0\n",
      " 26 47  1  0\n",
      " 27 48  1  0\n",
      " 28 49  1  0\n",
      " 29 50  1  0\n",
      "M  END\n",
      "\n"
     ]
    }
   ],
   "source": [
    "mblock = Chem.MolToMolBlock(updated_mol)\n",
    "print(mblock)"
   ]
  },
  {
   "cell_type": "code",
   "execution_count": 190,
   "metadata": {},
   "outputs": [
    {
     "data": {
      "image/png": "[encoded data removed]",
      "text/plain": [
       "<rdkit.Chem.rdchem.Mol at 0x7f98322aaa50>"
      ]
     },
     "execution_count": 190,
     "metadata": {},
     "output_type": "execute_result"
    }
   ],
   "source": [
    "mol"
   ]
  },
  {
   "cell_type": "code",
   "execution_count": 180,
   "metadata": {},
   "outputs": [
    {
     "data": {
      "image/png": "[encoded data removed]",
      "text/plain": [
       "<Figure size 432x288 with 1 Axes>"
      ]
     },
     "metadata": {},
     "output_type": "display_data"
    },
    {
     "name": "stdout",
     "output_type": "stream",
     "text": [
      "[[0.  2.  0.  0.  0.  0.  0.  0.  0.  0.  0.  0.  0.  0.  0.  0.  0.  0.\n",
      "  0.  0.  0.  0.  0.  0.  0.  0.  0.  0.  0.  0. ]\n",
      " [2.  0.  1.  0.  0.  0.  0.  0.  0.  0.  0.  0.  0.  0.  0.  0.  0.  0.\n",
      "  0.  0.  0.  0.  0.  1.  0.  0.  0.  0.  0.  0. ]\n",
      " [0.  1.  0.  1.  0.  0.  0.  0.  0.  0.  0.  0.  0.  0.  0.  0.  0.  0.\n",
      "  0.  0.  0.  0.  0.  0.  0.  0.  0.  0.  0.  0. ]\n",
      " [0.  0.  1.  0.  1.  0.  0.  0.  0.  0.  0.  0.  0.  0.  0.  0.  0.  0.\n",
      "  0.  0.  0.  0.  1.  0.  0.  0.  0.  0.  0.  0. ]\n",
      " [0.  0.  0.  1.  0.  2.  1.  0.  0.  0.  0.  0.  0.  0.  0.  0.  0.  0.\n",
      "  0.  0.  0.  0.  0.  0.  0.  0.  0.  0.  0.  0. ]\n",
      " [0.  0.  0.  0.  2.  0.  0.  0.  0.  0.  0.  0.  0.  0.  0.  0.  0.  0.\n",
      "  0.  0.  0.  0.  0.  0.  0.  0.  0.  0.  0.  0. ]\n",
      " [0.  0.  0.  0.  1.  0.  0.  1.  0.  0.  0.  0.  0.  0.  0.  0.  0.  0.\n",
      "  0.  0.  0.  0.  0.  0.  0.  0.  0.  0.  0.  0. ]\n",
      " [0.  0.  0.  0.  0.  0.  1.  0.  1.  0.  0.  0.  0.  0.  0.  0.  0.  0.\n",
      "  0.  0.  0.  0.  0.  0.  0.  0.  0.  0.  0.  0. ]\n",
      " [0.  0.  0.  0.  0.  0.  0.  1.  0.  1.5 0.  0.  0.  0.  0.  0.  0.  0.\n",
      "  0.  0.  0.  0.  1.5 0.  0.  0.  0.  0.  0.  0. ]\n",
      " [0.  0.  0.  0.  0.  0.  0.  0.  1.5 0.  1.5 0.  0.  0.  0.  0.  0.  0.\n",
      "  0.  0.  0.  0.  0.  0.  0.  0.  0.  0.  0.  0. ]\n",
      " [0.  0.  0.  0.  0.  0.  0.  0.  0.  1.5 0.  1.5 0.  0.  0.  0.  0.  0.\n",
      "  0.  0.  0.  0.  0.  0.  0.  0.  0.  0.  0.  0. ]\n",
      " [0.  0.  0.  0.  0.  0.  0.  0.  0.  0.  1.5 0.  1.  0.  0.  0.  0.  0.\n",
      "  0.  0.  0.  1.5 0.  0.  0.  0.  0.  0.  0.  0. ]\n",
      " [0.  0.  0.  0.  0.  0.  0.  0.  0.  0.  0.  1.  0.  2.  2.  1.  0.  0.\n",
      "  0.  0.  0.  0.  0.  0.  0.  0.  0.  0.  0.  0. ]\n",
      " [0.  0.  0.  0.  0.  0.  0.  0.  0.  0.  0.  0.  2.  0.  0.  0.  0.  0.\n",
      "  0.  0.  0.  0.  0.  0.  0.  0.  0.  0.  0.  0. ]\n",
      " [0.  0.  0.  0.  0.  0.  0.  0.  0.  0.  0.  0.  2.  0.  0.  0.  0.  0.\n",
      "  0.  0.  0.  0.  0.  0.  0.  0.  0.  0.  0.  0. ]\n",
      " [0.  0.  0.  0.  0.  0.  0.  0.  0.  0.  0.  0.  1.  0.  0.  0.  1.  0.\n",
      "  0.  0.  1.  0.  0.  0.  0.  0.  0.  0.  0.  0. ]\n",
      " [0.  0.  0.  0.  0.  0.  0.  0.  0.  0.  0.  0.  0.  0.  0.  1.  0.  1.\n",
      "  0.  0.  0.  0.  0.  0.  0.  0.  0.  0.  0.  0. ]\n",
      " [0.  0.  0.  0.  0.  0.  0.  0.  0.  0.  0.  0.  0.  0.  0.  0.  1.  0.\n",
      "  1.  0.  0.  0.  0.  0.  0.  0.  0.  0.  0.  0. ]\n",
      " [0.  0.  0.  0.  0.  0.  0.  0.  0.  0.  0.  0.  0.  0.  0.  0.  0.  1.\n",
      "  0.  1.  0.  0.  0.  0.  0.  0.  0.  0.  0.  0. ]\n",
      " [0.  0.  0.  0.  0.  0.  0.  0.  0.  0.  0.  0.  0.  0.  0.  0.  0.  0.\n",
      "  1.  0.  1.  0.  0.  0.  0.  0.  0.  0.  0.  0. ]\n",
      " [0.  0.  0.  0.  0.  0.  0.  0.  0.  0.  0.  0.  0.  0.  0.  1.  0.  0.\n",
      "  0.  1.  0.  0.  0.  0.  0.  0.  0.  0.  0.  0. ]\n",
      " [0.  0.  0.  0.  0.  0.  0.  0.  0.  0.  0.  1.5 0.  0.  0.  0.  0.  0.\n",
      "  0.  0.  0.  0.  1.5 0.  0.  0.  0.  0.  0.  0. ]\n",
      " [0.  0.  0.  1.  0.  0.  0.  0.  1.5 0.  0.  0.  0.  0.  0.  0.  0.  0.\n",
      "  0.  0.  0.  1.5 0.  0.  0.  0.  0.  0.  0.  0. ]\n",
      " [0.  1.  0.  0.  0.  0.  0.  0.  0.  0.  0.  0.  0.  0.  0.  0.  0.  0.\n",
      "  0.  0.  0.  0.  0.  0.  1.  0.  0.  0.  0.  0. ]\n",
      " [0.  0.  0.  0.  0.  0.  0.  0.  0.  0.  0.  0.  0.  0.  0.  0.  0.  0.\n",
      "  0.  0.  0.  0.  0.  1.  0.  1.5 0.  0.  0.  1.5]\n",
      " [0.  0.  0.  0.  0.  0.  0.  0.  0.  0.  0.  0.  0.  0.  0.  0.  0.  0.\n",
      "  0.  0.  0.  0.  0.  0.  1.5 0.  1.5 0.  0.  0. ]\n",
      " [0.  0.  0.  0.  0.  0.  0.  0.  0.  0.  0.  0.  0.  0.  0.  0.  0.  0.\n",
      "  0.  0.  0.  0.  0.  0.  0.  1.5 0.  1.5 0.  0. ]\n",
      " [0.  0.  0.  0.  0.  0.  0.  0.  0.  0.  0.  0.  0.  0.  0.  0.  0.  0.\n",
      "  0.  0.  0.  0.  0.  0.  0.  0.  1.5 0.  1.5 0. ]\n",
      " [0.  0.  0.  0.  0.  0.  0.  0.  0.  0.  0.  0.  0.  0.  0.  0.  0.  0.\n",
      "  0.  0.  0.  0.  0.  0.  0.  0.  0.  1.5 0.  1.5]\n",
      " [0.  0.  0.  0.  0.  0.  0.  0.  0.  0.  0.  0.  0.  0.  0.  0.  0.  0.\n",
      "  0.  0.  0.  0.  0.  0.  1.5 0.  0.  0.  1.5 0. ]]\n"
     ]
    }
   ],
   "source": [
    "mol_nx = mol_to_nx(mol)\n",
    "\n",
    "mol_atoms = nx.get_node_attributes(mol_nx, 'atom_symbol')\n",
    "edge_weights = nx.get_edge_attributes(mol_nx, 'weight')\n",
    "\n",
    "color_map = {'C': 'cyan',\n",
    "             'O': 'orange',\n",
    "             'N': 'magenta'}  \n",
    "\n",
    "mol_colors = []\n",
    "for idx in mol_nx.nodes():\n",
    "    if (mol_nx.nodes[idx]['atom_symbol'] in color_map):\n",
    "        mol_colors.append(color_map[mol_nx.nodes[idx]['atom_symbol']])\n",
    "    else:\n",
    "        mol_colors.append('gray')\n",
    "    \n",
    "nx.draw(mol_nx,\n",
    "        labels=mol_atoms,\n",
    "        with_labels = True,\n",
    "        node_color=mol_colors,\n",
    "        widths=edge_weights,\n",
    "        node_size=300,\n",
    "        pos=nx.kamada_kawai_layout(mol_nx))\n",
    "\n",
    "plt.show()\n",
    "\n",
    "\n",
    "# print out the adjacency matrix ---------------------------------------------- \n",
    "matrix = nx.to_numpy_matrix(mol_nx)\n",
    "print(matrix)"
   ]
  },
  {
   "cell_type": "code",
   "execution_count": 178,
   "metadata": {},
   "outputs": [
    {
     "data": {
      "text/plain": [
       "{'weight': 2.0, 'bond_type': rdkit.Chem.rdchem.BondType.DOUBLE}"
      ]
     },
     "execution_count": 178,
     "metadata": {},
     "output_type": "execute_result"
    }
   ],
   "source": [
    "mol_nx.edges[(0,1)]"
   ]
  },
  {
   "cell_type": "code",
   "execution_count": null,
   "metadata": {},
   "outputs": [],
   "source": []
  }
 ],
 "metadata": {
  "kernelspec": {
   "display_name": "2020Woo",
   "language": "python",
   "name": "python3"
  },
  "language_info": {
   "codemirror_mode": {
    "name": "ipython",
    "version": 3
   },
   "file_extension": ".py",
   "mimetype": "text/x-python",
   "name": "python",
   "nbconvert_exporter": "python",
   "pygments_lexer": "ipython3",
   "version": "3.8.3"
  },
  "orig_nbformat": 4
 },
 "nbformat": 4,
 "nbformat_minor": 2
}
