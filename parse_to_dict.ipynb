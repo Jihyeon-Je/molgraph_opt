{
 "cells": [
  {
   "cell_type": "code",
   "execution_count": 1,
   "metadata": {},
   "outputs": [
    {
     "name": "stderr",
     "output_type": "stream",
     "text": [
      "/Users/jihyeonje/opt/anaconda3/envs/2020Woo/lib/python3.8/site-packages/scipy/__init__.py:143: UserWarning: A NumPy version >=1.19.5 and <1.27.0 is required for this version of SciPy (detected version 1.19.0)\n",
      "  warnings.warn(f\"A NumPy version >={np_minversion} and <{np_maxversion}\"\n"
     ]
    }
   ],
   "source": [
    "from rdkit import Chem\n",
    "from rdkit.Chem import QED, RDConfig, Descriptors, DataStructs, AllChem\n",
    "\n",
    "import pandas as pd\n",
    "import os\n",
    "import sys\n",
    "sys.path.append(os.path.join(RDConfig.RDContribDir, 'SA_Score'))\n",
    "\n",
    "import networkx as nx"
   ]
  },
  {
   "cell_type": "code",
   "execution_count": 2,
   "metadata": {},
   "outputs": [],
   "source": [
    "#dataset from https://github.com/wengong-jin/iclr19-graph2graph/tree/master\n",
    "df_qed = pd.read_csv('/Users/jihyeonje/Desktop/data/qed/train_pairs.txt', header=None, sep=' ') #sim coef 0.4, qed from [0.7,0.8] to [0.9,1.0]\n",
    "df_plogp = pd.read_csv('/Users/jihyeonje/Desktop/data/logp04/train_pairs.txt', header=None, sep=' ') #sim coef 0.4 "
   ]
  },
  {
   "cell_type": "code",
   "execution_count": 3,
   "metadata": {},
   "outputs": [
    {
     "name": "stdout",
     "output_type": "stream",
     "text": [
      "\n",
      "     RDKit          3D\n",
      "\n",
      " 47 49  0  0  0  0  0  0  0  0999 V2000\n",
      "   -5.6686   -1.5782    0.5171 C   0  0  0  0  0  0  0  0  0  0  0  0\n",
      "   -4.2729   -1.2484   -0.0317 C   0  0  0  0  0  0  0  0  0  0  0  0\n",
      "   -4.2224   -1.4862   -1.5518 C   0  0  0  0  0  0  0  0  0  0  0  0\n",
      "   -3.8208    0.1776    0.3937 C   0  0  2  0  0  0  0  0  0  0  0  0\n",
      "   -4.7142    1.2276   -0.1176 N   0  0  0  0  0  0  0  0  0  0  0  0\n",
      "   -4.6984    2.5614    0.4101 C   0  0  0  0  0  0  0  0  0  0  0  0\n",
      "   -5.5853    3.5478   -0.1154 N   0  0  0  0  0  0  0  0  0  0  0  0\n",
      "   -3.9038    2.8716    1.3383 O   0  0  0  0  0  0  0  0  0  0  0  0\n",
      "   -2.3957    0.4387   -0.0293 C   0  0  0  0  0  0  0  0  0  0  0  0\n",
      "   -2.1631    1.0991   -1.0790 O   0  0  0  0  0  0  0  0  0  0  0  0\n",
      "   -1.3123   -0.0778    0.7596 N   0  0  0  0  0  0  0  0  0  0  0  0\n",
      "    0.0514   -0.1384    0.3102 C   0  0  0  0  0  0  0  0  0  0  0  0\n",
      "    0.3706   -0.4037   -1.0495 C   0  0  0  0  0  0  0  0  0  0  0  0\n",
      "    1.7116   -0.4847   -1.4667 C   0  0  0  0  0  0  0  0  0  0  0  0\n",
      "    2.7026   -0.3125   -0.5066 C   0  0  0  0  0  0  0  0  0  0  0  0\n",
      "    2.4063   -0.0780    0.7976 C   0  0  0  0  0  0  0  0  0  0  0  0\n",
      "    1.0936    0.0092    1.2512 C   0  0  0  0  0  0  0  0  0  0  0  0\n",
      "    3.5761    0.0437    1.5239 O   0  0  0  0  0  0  0  0  0  0  0  0\n",
      "    4.6761   -0.1249    0.6154 C   0  0  0  0  0  0  0  0  0  0  0  0\n",
      "    5.5675   -1.2895    1.0120 C   0  0  0  0  0  0  0  0  0  0  0  0\n",
      "    6.9523   -0.9394    0.4802 C   0  0  0  0  0  0  0  0  0  0  0  0\n",
      "    6.9602    0.5667    0.2089 C   0  0  0  0  0  0  0  0  0  0  0  0\n",
      "    5.5815    1.0948    0.5867 C   0  0  0  0  0  0  0  0  0  0  0  0\n",
      "    4.0745   -0.3507   -0.6706 O   0  0  0  0  0  0  0  0  0  0  0  0\n",
      "   -6.4442   -0.9331    0.0533 H   0  0  0  0  0  0  0  0  0  0  0  0\n",
      "   -5.9204   -2.6393    0.3050 H   0  0  0  0  0  0  0  0  0  0  0  0\n",
      "   -5.6931   -1.4339    1.6182 H   0  0  0  0  0  0  0  0  0  0  0  0\n",
      "   -3.5675   -1.9732    0.4341 H   0  0  0  0  0  0  0  0  0  0  0  0\n",
      "   -4.9321   -0.8287   -2.0938 H   0  0  0  0  0  0  0  0  0  0  0  0\n",
      "   -3.1984   -1.3131   -1.9432 H   0  0  0  0  0  0  0  0  0  0  0  0\n",
      "   -4.4895   -2.5410   -1.7763 H   0  0  0  0  0  0  0  0  0  0  0  0\n",
      "   -3.8542    0.2115    1.5058 H   0  0  0  0  0  0  0  0  0  0  0  0\n",
      "   -5.3987    1.0167   -0.8766 H   0  0  0  0  0  0  0  0  0  0  0  0\n",
      "   -6.2497    3.3094   -0.8845 H   0  0  0  0  0  0  0  0  0  0  0  0\n",
      "   -5.5774    4.5204    0.2643 H   0  0  0  0  0  0  0  0  0  0  0  0\n",
      "   -1.5172   -0.3643    1.7436 H   0  0  0  0  0  0  0  0  0  0  0  0\n",
      "   -0.4109   -0.5737   -1.7777 H   0  0  0  0  0  0  0  0  0  0  0  0\n",
      "    1.9651   -0.6860   -2.4991 H   0  0  0  0  0  0  0  0  0  0  0  0\n",
      "    0.8850    0.1939    2.2971 H   0  0  0  0  0  0  0  0  0  0  0  0\n",
      "    5.6072   -1.3699    2.1210 H   0  0  0  0  0  0  0  0  0  0  0  0\n",
      "    5.1991   -2.2509    0.5921 H   0  0  0  0  0  0  0  0  0  0  0  0\n",
      "    7.1444   -1.4942   -0.4646 H   0  0  0  0  0  0  0  0  0  0  0  0\n",
      "    7.7353   -1.2135    1.2205 H   0  0  0  0  0  0  0  0  0  0  0  0\n",
      "    7.1526    0.7546   -0.8704 H   0  0  0  0  0  0  0  0  0  0  0  0\n",
      "    7.7495    1.0736    0.8058 H   0  0  0  0  0  0  0  0  0  0  0  0\n",
      "    5.2222    1.8568   -0.1390 H   0  0  0  0  0  0  0  0  0  0  0  0\n",
      "    5.6260    1.5518    1.6002 H   0  0  0  0  0  0  0  0  0  0  0  0\n",
      "  1  2  1  0\n",
      "  2  3  1  0\n",
      "  2  4  1  0\n",
      "  4  5  1  0\n",
      "  5  6  1  0\n",
      "  6  7  1  0\n",
      "  6  8  2  0\n",
      "  4  9  1  0\n",
      "  9 10  2  0\n",
      "  9 11  1  0\n",
      " 11 12  1  0\n",
      " 12 13  2  0\n",
      " 13 14  1  0\n",
      " 14 15  2  0\n",
      " 15 16  1  0\n",
      " 16 17  2  0\n",
      " 16 18  1  0\n",
      " 18 19  1  0\n",
      " 19 20  1  0\n",
      " 20 21  1  0\n",
      " 21 22  1  0\n",
      " 22 23  1  0\n",
      " 19 24  1  0\n",
      " 17 12  1  0\n",
      " 23 19  1  0\n",
      " 24 15  1  0\n",
      "  1 25  1  0\n",
      "  1 26  1  0\n",
      "  1 27  1  0\n",
      "  2 28  1  0\n",
      "  3 29  1  0\n",
      "  3 30  1  0\n",
      "  3 31  1  0\n",
      "  4 32  1  1\n",
      "  5 33  1  0\n",
      "  7 34  1  0\n",
      "  7 35  1  0\n",
      " 11 36  1  0\n",
      " 13 37  1  0\n",
      " 14 38  1  0\n",
      " 17 39  1  0\n",
      " 20 40  1  0\n",
      " 20 41  1  0\n",
      " 21 42  1  0\n",
      " 21 43  1  0\n",
      " 22 44  1  0\n",
      " 22 45  1  0\n",
      " 23 46  1  0\n",
      " 23 47  1  0\n",
      "M  END\n",
      "\n"
     ]
    }
   ],
   "source": [
    "smi = df_qed[0][10]\n",
    "mol = Chem.MolFromSmiles(smi)\n",
    "\n",
    "#start processing 3D coordinates\n",
    "updated_mol= Chem.AddHs(mol)\n",
    "AllChem.EmbedMolecule(updated_mol)\n",
    "AllChem.UFFOptimizeMolecule(updated_mol)\n",
    "updated_mol.GetConformer()\n",
    "\n",
    "#to get atom type, coordinate, edges\n",
    "mblock = Chem.MolToMolBlock(updated_mol)\n",
    "print(mblock)"
   ]
  },
  {
   "cell_type": "code",
   "execution_count": 4,
   "metadata": {},
   "outputs": [],
   "source": [
    "parsed = mblock.split(\"\\n\")\n",
    "stats = parsed[3]\n",
    "tot_atoms = int(stats.split(\" \")[1])\n",
    "tot_edges = int(stats.split(\" \")[2])\n",
    "\n",
    "coors = parsed[4:tot_atoms+4]\n",
    "edges = parsed[tot_atoms+4:tot_atoms+tot_edges+4]\n"
   ]
  },
  {
   "cell_type": "code",
   "execution_count": 5,
   "metadata": {},
   "outputs": [],
   "source": [
    "edge_dict = []\n",
    "for i in range(tot_edges):\n",
    "    edge_inf = [int(x) for x in edges[i].split()[0:3]]\n",
    "    edge_dict.append({(edge_inf[0], edge_inf[1]):edge_inf[2]})"
   ]
  },
  {
   "cell_type": "code",
   "execution_count": 6,
   "metadata": {},
   "outputs": [],
   "source": [
    "node_dict = []\n",
    "for j in range(tot_atoms):\n",
    "    atom_type = coors[j][:-37][-1]\n",
    "    xyz_coor = [float(x) for x in coors[j][:-37][:-2].split()]\n",
    "    node_dict.append({'node': j+1, 'x': xyz_coor[0], 'y': xyz_coor[1], 'z': xyz_coor[2], 'type': atom_type})"
   ]
  },
  {
   "cell_type": "code",
   "execution_count": 7,
   "metadata": {},
   "outputs": [
    {
     "data": {
      "text/plain": [
       "47"
      ]
     },
     "execution_count": 7,
     "metadata": {},
     "output_type": "execute_result"
    }
   ],
   "source": [
    "N = len(node_dict)\n",
    "N"
   ]
  },
  {
   "cell_type": "code",
   "execution_count": 8,
   "metadata": {},
   "outputs": [],
   "source": [
    "import igraph as ig"
   ]
  },
  {
   "cell_type": "code",
   "execution_count": 9,
   "metadata": {},
   "outputs": [],
   "source": [
    "edges = [[*edge_dict[k]][0] for k in range(len(edge_dict))]\n",
    "G = ig.Graph(edges, directed=False)"
   ]
  },
  {
   "cell_type": "code",
   "execution_count": 10,
   "metadata": {},
   "outputs": [],
   "source": [
    "node_num=[]\n",
    "atom_type=[]\n",
    "Xn = []\n",
    "Yn = []\n",
    "Zn = []\n",
    "for node in node_dict:\n",
    "    node_num.append(node['node'])\n",
    "    atom_type.append(node['type'])\n",
    "    Xn.append('x')\n",
    "    Yn.append('y')\n",
    "    Zn.append('z')"
   ]
  },
  {
   "cell_type": "code",
   "execution_count": 11,
   "metadata": {},
   "outputs": [],
   "source": [
    "layt=G.layout('kk', dim=3)\n"
   ]
  },
  {
   "cell_type": "code",
   "execution_count": 12,
   "metadata": {},
   "outputs": [],
   "source": [
    "\n",
    "Xe=[]\n",
    "Ye=[]\n",
    "Ze=[]\n",
    "for e in edges:\n",
    "    Xe+=[layt[e[0]][0],layt[e[1]][0], None]# x-coordinates of edge ends\n",
    "    Ye+=[layt[e[0]][1],layt[e[1]][1], None]\n",
    "    Ze+=[layt[e[0]][2],layt[e[1]][2], None]"
   ]
  },
  {
   "cell_type": "code",
   "execution_count": 13,
   "metadata": {},
   "outputs": [],
   "source": [
    "import plotly.graph_objs as go\n",
    "\n",
    "trace1=go.Scatter3d(x=Xe,\n",
    "               y=Ye,\n",
    "               z=Ze,\n",
    "               mode='lines',\n",
    "               line=dict(color='rgb(125,125,125)', width=1)\n",
    "               )\n",
    "\n",
    "trace2=go.Scatter3d(x=Xn,\n",
    "               y=Yn,\n",
    "               z=Zn,\n",
    "               mode='markers',\n",
    "               name='actors',\n",
    "               marker=dict(symbol='circle',\n",
    "                             size=6,\n",
    "                             line=dict(color='rgb(50,50,50)', width=0.5)\n",
    "                             )\n",
    "               )\n",
    "\n",
    "axis=dict(showbackground=False,\n",
    "          showline=False,\n",
    "          zeroline=False,\n",
    "          showgrid=False,\n",
    "          showticklabels=False,\n",
    "          title=''\n",
    "          )\n",
    "\n",
    "layout = go.Layout(\n",
    "         title=\"Network of coappearances of characters in Victor Hugo's novel<br> Les Miserables (3D visualization)\",\n",
    "         width=1000,\n",
    "         height=1000,\n",
    "         showlegend=False,\n",
    "         scene=dict(\n",
    "             xaxis=dict(axis),\n",
    "             yaxis=dict(axis),\n",
    "             zaxis=dict(axis),\n",
    "        ),\n",
    "     margin=dict(\n",
    "        t=100\n",
    "    ),\n",
    "    hovermode='closest',\n",
    "     )"
   ]
  },
  {
   "cell_type": "code",
   "execution_count": 21,
   "metadata": {},
   "outputs": [],
   "source": [
    "data=[trace1, trace2]\n",
    "fig=go.Figure(data=data, layout=layout)\n",
    "import chart_studio.plotly as py\n",
    "\n",
    "py.plot(fig, filename='Les-Miserables')"
   ]
  },
  {
   "cell_type": "code",
   "execution_count": null,
   "metadata": {},
   "outputs": [],
   "source": []
  }
 ],
 "metadata": {
  "kernelspec": {
   "display_name": "2020Woo",
   "language": "python",
   "name": "python3"
  },
  "language_info": {
   "codemirror_mode": {
    "name": "ipython",
    "version": 3
   },
   "file_extension": ".py",
   "mimetype": "text/x-python",
   "name": "python",
   "nbconvert_exporter": "python",
   "pygments_lexer": "ipython3",
   "version": "3.8.3"
  },
  "orig_nbformat": 4
 },
 "nbformat": 4,
 "nbformat_minor": 2
}
