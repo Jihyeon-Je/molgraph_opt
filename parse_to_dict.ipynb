{
 "cells": [
  {
   "cell_type": "code",
   "execution_count": 17,
   "metadata": {},
   "outputs": [],
   "source": [
    "from rdkit import Chem\n",
    "from rdkit.Chem import QED, RDConfig, Descriptors, DataStructs, AllChem\n",
    "\n",
    "import pandas as pd\n",
    "import os\n",
    "import sys\n",
    "sys.path.append(os.path.join(RDConfig.RDContribDir, 'SA_Score'))\n",
    "import plotly.graph_objects as go\n",
    "\n",
    "import networkx as nx"
   ]
  },
  {
   "cell_type": "code",
   "execution_count": 2,
   "metadata": {},
   "outputs": [],
   "source": [
    "#dataset from https://github.com/wengong-jin/iclr19-graph2graph/tree/master\n",
    "df_qed = pd.read_csv('/Users/jihyeonje/Desktop/data/qed/train_pairs.txt', header=None, sep=' ') #sim coef 0.4, qed from [0.7,0.8] to [0.9,1.0]\n",
    "df_plogp = pd.read_csv('/Users/jihyeonje/Desktop/data/logp04/train_pairs.txt', header=None, sep=' ') #sim coef 0.4 "
   ]
  },
  {
   "cell_type": "code",
   "execution_count": 3,
   "metadata": {},
   "outputs": [
    {
     "name": "stdout",
     "output_type": "stream",
     "text": [
      "\n",
      "     RDKit          3D\n",
      "\n",
      " 47 49  0  0  0  0  0  0  0  0999 V2000\n",
      "   -5.6686   -1.5782    0.5171 C   0  0  0  0  0  0  0  0  0  0  0  0\n",
      "   -4.2729   -1.2484   -0.0317 C   0  0  0  0  0  0  0  0  0  0  0  0\n",
      "   -4.2224   -1.4862   -1.5518 C   0  0  0  0  0  0  0  0  0  0  0  0\n",
      "   -3.8208    0.1776    0.3937 C   0  0  2  0  0  0  0  0  0  0  0  0\n",
      "   -4.7142    1.2276   -0.1176 N   0  0  0  0  0  0  0  0  0  0  0  0\n",
      "   -4.6984    2.5614    0.4101 C   0  0  0  0  0  0  0  0  0  0  0  0\n",
      "   -5.5853    3.5478   -0.1154 N   0  0  0  0  0  0  0  0  0  0  0  0\n",
      "   -3.9038    2.8716    1.3383 O   0  0  0  0  0  0  0  0  0  0  0  0\n",
      "   -2.3957    0.4387   -0.0293 C   0  0  0  0  0  0  0  0  0  0  0  0\n",
      "   -2.1631    1.0991   -1.0790 O   0  0  0  0  0  0  0  0  0  0  0  0\n",
      "   -1.3123   -0.0778    0.7596 N   0  0  0  0  0  0  0  0  0  0  0  0\n",
      "    0.0514   -0.1384    0.3102 C   0  0  0  0  0  0  0  0  0  0  0  0\n",
      "    0.3706   -0.4037   -1.0495 C   0  0  0  0  0  0  0  0  0  0  0  0\n",
      "    1.7116   -0.4847   -1.4667 C   0  0  0  0  0  0  0  0  0  0  0  0\n",
      "    2.7026   -0.3125   -0.5066 C   0  0  0  0  0  0  0  0  0  0  0  0\n",
      "    2.4063   -0.0780    0.7976 C   0  0  0  0  0  0  0  0  0  0  0  0\n",
      "    1.0936    0.0092    1.2512 C   0  0  0  0  0  0  0  0  0  0  0  0\n",
      "    3.5761    0.0437    1.5239 O   0  0  0  0  0  0  0  0  0  0  0  0\n",
      "    4.6761   -0.1249    0.6154 C   0  0  0  0  0  0  0  0  0  0  0  0\n",
      "    5.5675   -1.2895    1.0120 C   0  0  0  0  0  0  0  0  0  0  0  0\n",
      "    6.9523   -0.9394    0.4802 C   0  0  0  0  0  0  0  0  0  0  0  0\n",
      "    6.9602    0.5667    0.2089 C   0  0  0  0  0  0  0  0  0  0  0  0\n",
      "    5.5815    1.0948    0.5867 C   0  0  0  0  0  0  0  0  0  0  0  0\n",
      "    4.0745   -0.3507   -0.6706 O   0  0  0  0  0  0  0  0  0  0  0  0\n",
      "   -6.4442   -0.9331    0.0533 H   0  0  0  0  0  0  0  0  0  0  0  0\n",
      "   -5.9204   -2.6393    0.3050 H   0  0  0  0  0  0  0  0  0  0  0  0\n",
      "   -5.6931   -1.4339    1.6182 H   0  0  0  0  0  0  0  0  0  0  0  0\n",
      "   -3.5675   -1.9732    0.4341 H   0  0  0  0  0  0  0  0  0  0  0  0\n",
      "   -4.9321   -0.8287   -2.0938 H   0  0  0  0  0  0  0  0  0  0  0  0\n",
      "   -3.1984   -1.3131   -1.9432 H   0  0  0  0  0  0  0  0  0  0  0  0\n",
      "   -4.4895   -2.5410   -1.7763 H   0  0  0  0  0  0  0  0  0  0  0  0\n",
      "   -3.8542    0.2115    1.5058 H   0  0  0  0  0  0  0  0  0  0  0  0\n",
      "   -5.3987    1.0167   -0.8766 H   0  0  0  0  0  0  0  0  0  0  0  0\n",
      "   -6.2497    3.3094   -0.8845 H   0  0  0  0  0  0  0  0  0  0  0  0\n",
      "   -5.5774    4.5204    0.2643 H   0  0  0  0  0  0  0  0  0  0  0  0\n",
      "   -1.5172   -0.3643    1.7436 H   0  0  0  0  0  0  0  0  0  0  0  0\n",
      "   -0.4109   -0.5737   -1.7777 H   0  0  0  0  0  0  0  0  0  0  0  0\n",
      "    1.9651   -0.6860   -2.4991 H   0  0  0  0  0  0  0  0  0  0  0  0\n",
      "    0.8850    0.1939    2.2971 H   0  0  0  0  0  0  0  0  0  0  0  0\n",
      "    5.6072   -1.3699    2.1210 H   0  0  0  0  0  0  0  0  0  0  0  0\n",
      "    5.1991   -2.2509    0.5921 H   0  0  0  0  0  0  0  0  0  0  0  0\n",
      "    7.1444   -1.4942   -0.4646 H   0  0  0  0  0  0  0  0  0  0  0  0\n",
      "    7.7353   -1.2135    1.2205 H   0  0  0  0  0  0  0  0  0  0  0  0\n",
      "    7.1526    0.7546   -0.8704 H   0  0  0  0  0  0  0  0  0  0  0  0\n",
      "    7.7495    1.0736    0.8058 H   0  0  0  0  0  0  0  0  0  0  0  0\n",
      "    5.2222    1.8568   -0.1390 H   0  0  0  0  0  0  0  0  0  0  0  0\n",
      "    5.6260    1.5518    1.6002 H   0  0  0  0  0  0  0  0  0  0  0  0\n",
      "  1  2  1  0\n",
      "  2  3  1  0\n",
      "  2  4  1  0\n",
      "  4  5  1  0\n",
      "  5  6  1  0\n",
      "  6  7  1  0\n",
      "  6  8  2  0\n",
      "  4  9  1  0\n",
      "  9 10  2  0\n",
      "  9 11  1  0\n",
      " 11 12  1  0\n",
      " 12 13  2  0\n",
      " 13 14  1  0\n",
      " 14 15  2  0\n",
      " 15 16  1  0\n",
      " 16 17  2  0\n",
      " 16 18  1  0\n",
      " 18 19  1  0\n",
      " 19 20  1  0\n",
      " 20 21  1  0\n",
      " 21 22  1  0\n",
      " 22 23  1  0\n",
      " 19 24  1  0\n",
      " 17 12  1  0\n",
      " 23 19  1  0\n",
      " 24 15  1  0\n",
      "  1 25  1  0\n",
      "  1 26  1  0\n",
      "  1 27  1  0\n",
      "  2 28  1  0\n",
      "  3 29  1  0\n",
      "  3 30  1  0\n",
      "  3 31  1  0\n",
      "  4 32  1  1\n",
      "  5 33  1  0\n",
      "  7 34  1  0\n",
      "  7 35  1  0\n",
      " 11 36  1  0\n",
      " 13 37  1  0\n",
      " 14 38  1  0\n",
      " 17 39  1  0\n",
      " 20 40  1  0\n",
      " 20 41  1  0\n",
      " 21 42  1  0\n",
      " 21 43  1  0\n",
      " 22 44  1  0\n",
      " 22 45  1  0\n",
      " 23 46  1  0\n",
      " 23 47  1  0\n",
      "M  END\n",
      "\n"
     ]
    }
   ],
   "source": [
    "smi = df_qed[0][10]\n",
    "mol = Chem.MolFromSmiles(smi)\n",
    "\n",
    "#start processing 3D coordinates\n",
    "updated_mol= Chem.AddHs(mol)\n",
    "AllChem.EmbedMolecule(updated_mol)\n",
    "AllChem.UFFOptimizeMolecule(updated_mol)\n",
    "updated_mol.GetConformer()\n",
    "\n",
    "#to get atom type, coordinate, edges\n",
    "mblock = Chem.MolToMolBlock(updated_mol)\n",
    "print(mblock)"
   ]
  },
  {
   "cell_type": "code",
   "execution_count": 4,
   "metadata": {},
   "outputs": [],
   "source": [
    "parsed = mblock.split(\"\\n\")\n",
    "stats = parsed[3]\n",
    "tot_atoms = int(stats.split(\" \")[1])\n",
    "tot_edges = int(stats.split(\" \")[2])\n",
    "\n",
    "coors = parsed[4:tot_atoms+4]\n",
    "edges = parsed[tot_atoms+4:tot_atoms+tot_edges+4]\n"
   ]
  },
  {
   "cell_type": "code",
   "execution_count": 5,
   "metadata": {},
   "outputs": [],
   "source": [
    "edge_dict = []\n",
    "for i in range(tot_edges):\n",
    "    edge_inf = [int(x) for x in edges[i].split()[0:3]]\n",
    "    edge_dict.append({(edge_inf[0], edge_inf[1]):edge_inf[2]})"
   ]
  },
  {
   "cell_type": "code",
   "execution_count": 6,
   "metadata": {},
   "outputs": [],
   "source": [
    "node_dict = []\n",
    "for j in range(tot_atoms):\n",
    "    atom_type = coors[j][:-37][-1]\n",
    "    xyz_coor = [float(x) for x in coors[j][:-37][:-2].split()]\n",
    "    node_dict.append({'node': j+1, 'x': xyz_coor[0], 'y': xyz_coor[1], 'z': xyz_coor[2], 'type': atom_type})"
   ]
  },
  {
   "cell_type": "code",
   "execution_count": 7,
   "metadata": {},
   "outputs": [
    {
     "data": {
      "text/plain": [
       "47"
      ]
     },
     "execution_count": 7,
     "metadata": {},
     "output_type": "execute_result"
    }
   ],
   "source": [
    "N = len(node_dict)\n",
    "N"
   ]
  },
  {
   "cell_type": "code",
   "execution_count": 8,
   "metadata": {},
   "outputs": [],
   "source": [
    "import igraph as ig"
   ]
  },
  {
   "cell_type": "code",
   "execution_count": 9,
   "metadata": {},
   "outputs": [],
   "source": [
    "color_map = {'C': 'goldenrod',\n",
    "             'O': 'aqua',\n",
    "             'N': 'magenta',\n",
    "             'S': 'darkmagenta',\n",
    "             'H': 'green'} "
   ]
  },
  {
   "cell_type": "code",
   "execution_count": 10,
   "metadata": {},
   "outputs": [],
   "source": [
    "node_num=[]\n",
    "color_code=[]\n",
    "atom_type=[]\n",
    "\n",
    "Xn = []\n",
    "Yn = []\n",
    "Zn = []\n",
    "for node in node_dict:\n",
    "    node_num.append(node['node'])\n",
    "    atom_type.append(node['type'])\n",
    "    color_code.append(color_map[node['type']])\n",
    "\n",
    "    Xn.append(node['x'])\n",
    "    Yn.append(node['y'])\n",
    "    Zn.append(node['z'])"
   ]
  },
  {
   "cell_type": "code",
   "execution_count": 11,
   "metadata": {},
   "outputs": [],
   "source": [
    "edges = [[*edge_dict[k]][0] for k in range(len(edge_dict))]"
   ]
  },
  {
   "cell_type": "code",
   "execution_count": 12,
   "metadata": {},
   "outputs": [],
   "source": [
    "x_edges = []\n",
    "y_edges = []\n",
    "z_edges = []\n",
    "bond_type = []\n",
    "#need to fill these with all of the coordiates\n",
    "for i in range(len(edge_dict)):\n",
    "    #format: [beginning,ending,None]\n",
    "    edge, bond = next(iter(edge_dict[i].items()))\n",
    "    x_coords = [Xn[edge[0]-1],Xn[edge[1]-1],None]\n",
    "    x_edges += x_coords\n",
    "\n",
    "    y_coords = [Yn[edge[0]-1],Yn[edge[1]-1],None]\n",
    "    y_edges += y_coords\n",
    "\n",
    "    z_coords = [Zn[edge[0]-1],Zn[edge[1]-1],None]\n",
    "    z_edges += z_coords\n",
    "    bond_type.append(bond)"
   ]
  },
  {
   "cell_type": "code",
   "execution_count": 18,
   "metadata": {},
   "outputs": [],
   "source": [
    "trace_edges = go.Scatter3d(x=x_edges,\n",
    "                        y=y_edges,\n",
    "                        z=z_edges,\n",
    "                        mode='lines',\n",
    "                        line=dict(color='black', width=2),\n",
    "                        hoverinfo='none'\n",
    ")"
   ]
  },
  {
   "cell_type": "code",
   "execution_count": 19,
   "metadata": {},
   "outputs": [],
   "source": [
    "#create a trace for the nodes\n",
    "trace_nodes = go.Scatter3d(x=Xn,\n",
    "                         y=Yn,\n",
    "                        z=Zn,\n",
    "                        mode='markers',\n",
    "                        marker=dict(symbol='circle',\n",
    "                                    size=10,\n",
    "                                    color=color_code,\n",
    "                                    line=dict(color='black', width=0.5)),\n",
    "                        text=atom_type,\n",
    "                        hoverinfo='text')"
   ]
  },
  {
   "cell_type": "code",
   "execution_count": 20,
   "metadata": {},
   "outputs": [],
   "source": [
    "#we need to set the axis for the plot \n",
    "axis = dict(showbackground=False,\n",
    "            showline=True,\n",
    "            zeroline=False,\n",
    "            showgrid=True,\n",
    "            showticklabels=False,\n",
    "            title='')"
   ]
  },
  {
   "cell_type": "code",
   "execution_count": 21,
   "metadata": {},
   "outputs": [],
   "source": [
    "#also need to create the layout for our plot\n",
    "layout = go.Layout(\n",
    "                width=650,\n",
    "                height=625,\n",
    "                showlegend=False,\n",
    "                scene=dict(xaxis=dict(axis),\n",
    "                        yaxis=dict(axis),\n",
    "                        zaxis=dict(axis),\n",
    "                        ),\n",
    "                margin=dict(t=100),\n",
    "                hovermode='closest')"
   ]
  },
  {
   "cell_type": "code",
   "execution_count": 22,
   "metadata": {},
   "outputs": [
    {
     "data": {
      "application/vnd.plotly.v1+json": {
       "config": {
        "plotlyServerURL": "https://plot.ly"
       },
       "data": [
        {
         "hoverinfo": "none",
         "line": {
          "color": "black",
          "width": 2
         },
         "mode": "lines",
         "type": "scatter3d",
         "x": [
          -5.6686,
          -4.2729,
          null,
          -4.2729,
          -4.2224,
          null,
          -4.2729,
          -3.8208,
          null,
          -3.8208,
          -4.7142,
          null,
          -4.7142,
          -4.6984,
          null,
          -4.6984,
          -5.5853,
          null,
          -4.6984,
          -3.9038,
          null,
          -3.8208,
          -2.3957,
          null,
          -2.3957,
          -2.1631,
          null,
          -2.3957,
          -1.3123,
          null,
          -1.3123,
          0.0514,
          null,
          0.0514,
          0.3706,
          null,
          0.3706,
          1.7116,
          null,
          1.7116,
          2.7026,
          null,
          2.7026,
          2.4063,
          null,
          2.4063,
          1.0936,
          null,
          2.4063,
          3.5761,
          null,
          3.5761,
          4.6761,
          null,
          4.6761,
          5.5675,
          null,
          5.5675,
          6.9523,
          null,
          6.9523,
          6.9602,
          null,
          6.9602,
          5.5815,
          null,
          4.6761,
          4.0745,
          null,
          1.0936,
          0.0514,
          null,
          5.5815,
          4.6761,
          null,
          4.0745,
          2.7026,
          null,
          -5.6686,
          -6.4442,
          null,
          -5.6686,
          -5.9204,
          null,
          -5.6686,
          -5.6931,
          null,
          -4.2729,
          -3.5675,
          null,
          -4.2224,
          -4.9321,
          null,
          -4.2224,
          -3.1984,
          null,
          -4.2224,
          -4.4895,
          null,
          -3.8208,
          -3.8542,
          null,
          -4.7142,
          -5.3987,
          null,
          -5.5853,
          -6.2497,
          null,
          -5.5853,
          -5.5774,
          null,
          -1.3123,
          -1.5172,
          null,
          0.3706,
          -0.4109,
          null,
          1.7116,
          1.9651,
          null,
          1.0936,
          0.885,
          null,
          5.5675,
          5.6072,
          null,
          5.5675,
          5.1991,
          null,
          6.9523,
          7.1444,
          null,
          6.9523,
          7.7353,
          null,
          6.9602,
          7.1526,
          null,
          6.9602,
          7.7495,
          null,
          5.5815,
          5.2222,
          null,
          5.5815,
          5.626,
          null
         ],
         "y": [
          -1.5782,
          -1.2484,
          null,
          -1.2484,
          -1.4862,
          null,
          -1.2484,
          0.1776,
          null,
          0.1776,
          1.2276,
          null,
          1.2276,
          2.5614,
          null,
          2.5614,
          3.5478,
          null,
          2.5614,
          2.8716,
          null,
          0.1776,
          0.4387,
          null,
          0.4387,
          1.0991,
          null,
          0.4387,
          -0.0778,
          null,
          -0.0778,
          -0.1384,
          null,
          -0.1384,
          -0.4037,
          null,
          -0.4037,
          -0.4847,
          null,
          -0.4847,
          -0.3125,
          null,
          -0.3125,
          -0.078,
          null,
          -0.078,
          0.0092,
          null,
          -0.078,
          0.0437,
          null,
          0.0437,
          -0.1249,
          null,
          -0.1249,
          -1.2895,
          null,
          -1.2895,
          -0.9394,
          null,
          -0.9394,
          0.5667,
          null,
          0.5667,
          1.0948,
          null,
          -0.1249,
          -0.3507,
          null,
          0.0092,
          -0.1384,
          null,
          1.0948,
          -0.1249,
          null,
          -0.3507,
          -0.3125,
          null,
          -1.5782,
          -0.9331,
          null,
          -1.5782,
          -2.6393,
          null,
          -1.5782,
          -1.4339,
          null,
          -1.2484,
          -1.9732,
          null,
          -1.4862,
          -0.8287,
          null,
          -1.4862,
          -1.3131,
          null,
          -1.4862,
          -2.541,
          null,
          0.1776,
          0.2115,
          null,
          1.2276,
          1.0167,
          null,
          3.5478,
          3.3094,
          null,
          3.5478,
          4.5204,
          null,
          -0.0778,
          -0.3643,
          null,
          -0.4037,
          -0.5737,
          null,
          -0.4847,
          -0.686,
          null,
          0.0092,
          0.1939,
          null,
          -1.2895,
          -1.3699,
          null,
          -1.2895,
          -2.2509,
          null,
          -0.9394,
          -1.4942,
          null,
          -0.9394,
          -1.2135,
          null,
          0.5667,
          0.7546,
          null,
          0.5667,
          1.0736,
          null,
          1.0948,
          1.8568,
          null,
          1.0948,
          1.5518,
          null
         ],
         "z": [
          0.5171,
          -0.0317,
          null,
          -0.0317,
          -1.5518,
          null,
          -0.0317,
          0.3937,
          null,
          0.3937,
          -0.1176,
          null,
          -0.1176,
          0.4101,
          null,
          0.4101,
          -0.1154,
          null,
          0.4101,
          1.3383,
          null,
          0.3937,
          -0.0293,
          null,
          -0.0293,
          -1.079,
          null,
          -0.0293,
          0.7596,
          null,
          0.7596,
          0.3102,
          null,
          0.3102,
          -1.0495,
          null,
          -1.0495,
          -1.4667,
          null,
          -1.4667,
          -0.5066,
          null,
          -0.5066,
          0.7976,
          null,
          0.7976,
          1.2512,
          null,
          0.7976,
          1.5239,
          null,
          1.5239,
          0.6154,
          null,
          0.6154,
          1.012,
          null,
          1.012,
          0.4802,
          null,
          0.4802,
          0.2089,
          null,
          0.2089,
          0.5867,
          null,
          0.6154,
          -0.6706,
          null,
          1.2512,
          0.3102,
          null,
          0.5867,
          0.6154,
          null,
          -0.6706,
          -0.5066,
          null,
          0.5171,
          0.0533,
          null,
          0.5171,
          0.305,
          null,
          0.5171,
          1.6182,
          null,
          -0.0317,
          0.4341,
          null,
          -1.5518,
          -2.0938,
          null,
          -1.5518,
          -1.9432,
          null,
          -1.5518,
          -1.7763,
          null,
          0.3937,
          1.5058,
          null,
          -0.1176,
          -0.8766,
          null,
          -0.1154,
          -0.8845,
          null,
          -0.1154,
          0.2643,
          null,
          0.7596,
          1.7436,
          null,
          -1.0495,
          -1.7777,
          null,
          -1.4667,
          -2.4991,
          null,
          1.2512,
          2.2971,
          null,
          1.012,
          2.121,
          null,
          1.012,
          0.5921,
          null,
          0.4802,
          -0.4646,
          null,
          0.4802,
          1.2205,
          null,
          0.2089,
          -0.8704,
          null,
          0.2089,
          0.8058,
          null,
          0.5867,
          -0.139,
          null,
          0.5867,
          1.6002,
          null
         ]
        },
        {
         "hoverinfo": "text",
         "marker": {
          "color": [
           "goldenrod",
           "goldenrod",
           "goldenrod",
           "goldenrod",
           "magenta",
           "goldenrod",
           "magenta",
           "aqua",
           "goldenrod",
           "aqua",
           "magenta",
           "goldenrod",
           "goldenrod",
           "goldenrod",
           "goldenrod",
           "goldenrod",
           "goldenrod",
           "aqua",
           "goldenrod",
           "goldenrod",
           "goldenrod",
           "goldenrod",
           "goldenrod",
           "aqua",
           "green",
           "green",
           "green",
           "green",
           "green",
           "green",
           "green",
           "green",
           "green",
           "green",
           "green",
           "green",
           "green",
           "green",
           "green",
           "green",
           "green",
           "green",
           "green",
           "green",
           "green",
           "green",
           "green"
          ],
          "line": {
           "color": "black",
           "width": 0.5
          },
          "size": 10,
          "symbol": "circle"
         },
         "mode": "markers",
         "text": [
          "C",
          "C",
          "C",
          "C",
          "N",
          "C",
          "N",
          "O",
          "C",
          "O",
          "N",
          "C",
          "C",
          "C",
          "C",
          "C",
          "C",
          "O",
          "C",
          "C",
          "C",
          "C",
          "C",
          "O",
          "H",
          "H",
          "H",
          "H",
          "H",
          "H",
          "H",
          "H",
          "H",
          "H",
          "H",
          "H",
          "H",
          "H",
          "H",
          "H",
          "H",
          "H",
          "H",
          "H",
          "H",
          "H",
          "H"
         ],
         "type": "scatter3d",
         "x": [
          -5.6686,
          -4.2729,
          -4.2224,
          -3.8208,
          -4.7142,
          -4.6984,
          -5.5853,
          -3.9038,
          -2.3957,
          -2.1631,
          -1.3123,
          0.0514,
          0.3706,
          1.7116,
          2.7026,
          2.4063,
          1.0936,
          3.5761,
          4.6761,
          5.5675,
          6.9523,
          6.9602,
          5.5815,
          4.0745,
          -6.4442,
          -5.9204,
          -5.6931,
          -3.5675,
          -4.9321,
          -3.1984,
          -4.4895,
          -3.8542,
          -5.3987,
          -6.2497,
          -5.5774,
          -1.5172,
          -0.4109,
          1.9651,
          0.885,
          5.6072,
          5.1991,
          7.1444,
          7.7353,
          7.1526,
          7.7495,
          5.2222,
          5.626
         ],
         "y": [
          -1.5782,
          -1.2484,
          -1.4862,
          0.1776,
          1.2276,
          2.5614,
          3.5478,
          2.8716,
          0.4387,
          1.0991,
          -0.0778,
          -0.1384,
          -0.4037,
          -0.4847,
          -0.3125,
          -0.078,
          0.0092,
          0.0437,
          -0.1249,
          -1.2895,
          -0.9394,
          0.5667,
          1.0948,
          -0.3507,
          -0.9331,
          -2.6393,
          -1.4339,
          -1.9732,
          -0.8287,
          -1.3131,
          -2.541,
          0.2115,
          1.0167,
          3.3094,
          4.5204,
          -0.3643,
          -0.5737,
          -0.686,
          0.1939,
          -1.3699,
          -2.2509,
          -1.4942,
          -1.2135,
          0.7546,
          1.0736,
          1.8568,
          1.5518
         ],
         "z": [
          0.5171,
          -0.0317,
          -1.5518,
          0.3937,
          -0.1176,
          0.4101,
          -0.1154,
          1.3383,
          -0.0293,
          -1.079,
          0.7596,
          0.3102,
          -1.0495,
          -1.4667,
          -0.5066,
          0.7976,
          1.2512,
          1.5239,
          0.6154,
          1.012,
          0.4802,
          0.2089,
          0.5867,
          -0.6706,
          0.0533,
          0.305,
          1.6182,
          0.4341,
          -2.0938,
          -1.9432,
          -1.7763,
          1.5058,
          -0.8766,
          -0.8845,
          0.2643,
          1.7436,
          -1.7777,
          -2.4991,
          2.2971,
          2.121,
          0.5921,
          -0.4646,
          1.2205,
          -0.8704,
          0.8058,
          -0.139,
          1.6002
         ]
        }
       ],
       "layout": {
        "height": 625,
        "hovermode": "closest",
        "margin": {
         "t": 100
        },
        "scene": {
         "xaxis": {
          "showbackground": false,
          "showgrid": true,
          "showline": true,
          "showticklabels": false,
          "title": {
           "text": ""
          },
          "zeroline": false
         },
         "yaxis": {
          "showbackground": false,
          "showgrid": true,
          "showline": true,
          "showticklabels": false,
          "title": {
           "text": ""
          },
          "zeroline": false
         },
         "zaxis": {
          "showbackground": false,
          "showgrid": true,
          "showline": true,
          "showticklabels": false,
          "title": {
           "text": ""
          },
          "zeroline": false
         }
        },
        "showlegend": false,
        "template": {
         "data": {
          "bar": [
           {
            "error_x": {
             "color": "#2a3f5f"
            },
            "error_y": {
             "color": "#2a3f5f"
            },
            "marker": {
             "line": {
              "color": "#E5ECF6",
              "width": 0.5
             },
             "pattern": {
              "fillmode": "overlay",
              "size": 10,
              "solidity": 0.2
             }
            },
            "type": "bar"
           }
          ],
          "barpolar": [
           {
            "marker": {
             "line": {
              "color": "#E5ECF6",
              "width": 0.5
             },
             "pattern": {
              "fillmode": "overlay",
              "size": 10,
              "solidity": 0.2
             }
            },
            "type": "barpolar"
           }
          ],
          "carpet": [
           {
            "aaxis": {
             "endlinecolor": "#2a3f5f",
             "gridcolor": "white",
             "linecolor": "white",
             "minorgridcolor": "white",
             "startlinecolor": "#2a3f5f"
            },
            "baxis": {
             "endlinecolor": "#2a3f5f",
             "gridcolor": "white",
             "linecolor": "white",
             "minorgridcolor": "white",
             "startlinecolor": "#2a3f5f"
            },
            "type": "carpet"
           }
          ],
          "choropleth": [
           {
            "colorbar": {
             "outlinewidth": 0,
             "ticks": ""
            },
            "type": "choropleth"
           }
          ],
          "contour": [
           {
            "colorbar": {
             "outlinewidth": 0,
             "ticks": ""
            },
            "colorscale": [
             [
              0,
              "#0d0887"
             ],
             [
              0.1111111111111111,
              "#46039f"
             ],
             [
              0.2222222222222222,
              "#7201a8"
             ],
             [
              0.3333333333333333,
              "#9c179e"
             ],
             [
              0.4444444444444444,
              "#bd3786"
             ],
             [
              0.5555555555555556,
              "#d8576b"
             ],
             [
              0.6666666666666666,
              "#ed7953"
             ],
             [
              0.7777777777777778,
              "#fb9f3a"
             ],
             [
              0.8888888888888888,
              "#fdca26"
             ],
             [
              1,
              "#f0f921"
             ]
            ],
            "type": "contour"
           }
          ],
          "contourcarpet": [
           {
            "colorbar": {
             "outlinewidth": 0,
             "ticks": ""
            },
            "type": "contourcarpet"
           }
          ],
          "heatmap": [
           {
            "colorbar": {
             "outlinewidth": 0,
             "ticks": ""
            },
            "colorscale": [
             [
              0,
              "#0d0887"
             ],
             [
              0.1111111111111111,
              "#46039f"
             ],
             [
              0.2222222222222222,
              "#7201a8"
             ],
             [
              0.3333333333333333,
              "#9c179e"
             ],
             [
              0.4444444444444444,
              "#bd3786"
             ],
             [
              0.5555555555555556,
              "#d8576b"
             ],
             [
              0.6666666666666666,
              "#ed7953"
             ],
             [
              0.7777777777777778,
              "#fb9f3a"
             ],
             [
              0.8888888888888888,
              "#fdca26"
             ],
             [
              1,
              "#f0f921"
             ]
            ],
            "type": "heatmap"
           }
          ],
          "heatmapgl": [
           {
            "colorbar": {
             "outlinewidth": 0,
             "ticks": ""
            },
            "colorscale": [
             [
              0,
              "#0d0887"
             ],
             [
              0.1111111111111111,
              "#46039f"
             ],
             [
              0.2222222222222222,
              "#7201a8"
             ],
             [
              0.3333333333333333,
              "#9c179e"
             ],
             [
              0.4444444444444444,
              "#bd3786"
             ],
             [
              0.5555555555555556,
              "#d8576b"
             ],
             [
              0.6666666666666666,
              "#ed7953"
             ],
             [
              0.7777777777777778,
              "#fb9f3a"
             ],
             [
              0.8888888888888888,
              "#fdca26"
             ],
             [
              1,
              "#f0f921"
             ]
            ],
            "type": "heatmapgl"
           }
          ],
          "histogram": [
           {
            "marker": {
             "pattern": {
              "fillmode": "overlay",
              "size": 10,
              "solidity": 0.2
             }
            },
            "type": "histogram"
           }
          ],
          "histogram2d": [
           {
            "colorbar": {
             "outlinewidth": 0,
             "ticks": ""
            },
            "colorscale": [
             [
              0,
              "#0d0887"
             ],
             [
              0.1111111111111111,
              "#46039f"
             ],
             [
              0.2222222222222222,
              "#7201a8"
             ],
             [
              0.3333333333333333,
              "#9c179e"
             ],
             [
              0.4444444444444444,
              "#bd3786"
             ],
             [
              0.5555555555555556,
              "#d8576b"
             ],
             [
              0.6666666666666666,
              "#ed7953"
             ],
             [
              0.7777777777777778,
              "#fb9f3a"
             ],
             [
              0.8888888888888888,
              "#fdca26"
             ],
             [
              1,
              "#f0f921"
             ]
            ],
            "type": "histogram2d"
           }
          ],
          "histogram2dcontour": [
           {
            "colorbar": {
             "outlinewidth": 0,
             "ticks": ""
            },
            "colorscale": [
             [
              0,
              "#0d0887"
             ],
             [
              0.1111111111111111,
              "#46039f"
             ],
             [
              0.2222222222222222,
              "#7201a8"
             ],
             [
              0.3333333333333333,
              "#9c179e"
             ],
             [
              0.4444444444444444,
              "#bd3786"
             ],
             [
              0.5555555555555556,
              "#d8576b"
             ],
             [
              0.6666666666666666,
              "#ed7953"
             ],
             [
              0.7777777777777778,
              "#fb9f3a"
             ],
             [
              0.8888888888888888,
              "#fdca26"
             ],
             [
              1,
              "#f0f921"
             ]
            ],
            "type": "histogram2dcontour"
           }
          ],
          "mesh3d": [
           {
            "colorbar": {
             "outlinewidth": 0,
             "ticks": ""
            },
            "type": "mesh3d"
           }
          ],
          "parcoords": [
           {
            "line": {
             "colorbar": {
              "outlinewidth": 0,
              "ticks": ""
             }
            },
            "type": "parcoords"
           }
          ],
          "pie": [
           {
            "automargin": true,
            "type": "pie"
           }
          ],
          "scatter": [
           {
            "fillpattern": {
             "fillmode": "overlay",
             "size": 10,
             "solidity": 0.2
            },
            "type": "scatter"
           }
          ],
          "scatter3d": [
           {
            "line": {
             "colorbar": {
              "outlinewidth": 0,
              "ticks": ""
             }
            },
            "marker": {
             "colorbar": {
              "outlinewidth": 0,
              "ticks": ""
             }
            },
            "type": "scatter3d"
           }
          ],
          "scattercarpet": [
           {
            "marker": {
             "colorbar": {
              "outlinewidth": 0,
              "ticks": ""
             }
            },
            "type": "scattercarpet"
           }
          ],
          "scattergeo": [
           {
            "marker": {
             "colorbar": {
              "outlinewidth": 0,
              "ticks": ""
             }
            },
            "type": "scattergeo"
           }
          ],
          "scattergl": [
           {
            "marker": {
             "colorbar": {
              "outlinewidth": 0,
              "ticks": ""
             }
            },
            "type": "scattergl"
           }
          ],
          "scattermapbox": [
           {
            "marker": {
             "colorbar": {
              "outlinewidth": 0,
              "ticks": ""
             }
            },
            "type": "scattermapbox"
           }
          ],
          "scatterpolar": [
           {
            "marker": {
             "colorbar": {
              "outlinewidth": 0,
              "ticks": ""
             }
            },
            "type": "scatterpolar"
           }
          ],
          "scatterpolargl": [
           {
            "marker": {
             "colorbar": {
              "outlinewidth": 0,
              "ticks": ""
             }
            },
            "type": "scatterpolargl"
           }
          ],
          "scatterternary": [
           {
            "marker": {
             "colorbar": {
              "outlinewidth": 0,
              "ticks": ""
             }
            },
            "type": "scatterternary"
           }
          ],
          "surface": [
           {
            "colorbar": {
             "outlinewidth": 0,
             "ticks": ""
            },
            "colorscale": [
             [
              0,
              "#0d0887"
             ],
             [
              0.1111111111111111,
              "#46039f"
             ],
             [
              0.2222222222222222,
              "#7201a8"
             ],
             [
              0.3333333333333333,
              "#9c179e"
             ],
             [
              0.4444444444444444,
              "#bd3786"
             ],
             [
              0.5555555555555556,
              "#d8576b"
             ],
             [
              0.6666666666666666,
              "#ed7953"
             ],
             [
              0.7777777777777778,
              "#fb9f3a"
             ],
             [
              0.8888888888888888,
              "#fdca26"
             ],
             [
              1,
              "#f0f921"
             ]
            ],
            "type": "surface"
           }
          ],
          "table": [
           {
            "cells": {
             "fill": {
              "color": "#EBF0F8"
             },
             "line": {
              "color": "white"
             }
            },
            "header": {
             "fill": {
              "color": "#C8D4E3"
             },
             "line": {
              "color": "white"
             }
            },
            "type": "table"
           }
          ]
         },
         "layout": {
          "annotationdefaults": {
           "arrowcolor": "#2a3f5f",
           "arrowhead": 0,
           "arrowwidth": 1
          },
          "autotypenumbers": "strict",
          "coloraxis": {
           "colorbar": {
            "outlinewidth": 0,
            "ticks": ""
           }
          },
          "colorscale": {
           "diverging": [
            [
             0,
             "#8e0152"
            ],
            [
             0.1,
             "#c51b7d"
            ],
            [
             0.2,
             "#de77ae"
            ],
            [
             0.3,
             "#f1b6da"
            ],
            [
             0.4,
             "#fde0ef"
            ],
            [
             0.5,
             "#f7f7f7"
            ],
            [
             0.6,
             "#e6f5d0"
            ],
            [
             0.7,
             "#b8e186"
            ],
            [
             0.8,
             "#7fbc41"
            ],
            [
             0.9,
             "#4d9221"
            ],
            [
             1,
             "#276419"
            ]
           ],
           "sequential": [
            [
             0,
             "#0d0887"
            ],
            [
             0.1111111111111111,
             "#46039f"
            ],
            [
             0.2222222222222222,
             "#7201a8"
            ],
            [
             0.3333333333333333,
             "#9c179e"
            ],
            [
             0.4444444444444444,
             "#bd3786"
            ],
            [
             0.5555555555555556,
             "#d8576b"
            ],
            [
             0.6666666666666666,
             "#ed7953"
            ],
            [
             0.7777777777777778,
             "#fb9f3a"
            ],
            [
             0.8888888888888888,
             "#fdca26"
            ],
            [
             1,
             "#f0f921"
            ]
           ],
           "sequentialminus": [
            [
             0,
             "#0d0887"
            ],
            [
             0.1111111111111111,
             "#46039f"
            ],
            [
             0.2222222222222222,
             "#7201a8"
            ],
            [
             0.3333333333333333,
             "#9c179e"
            ],
            [
             0.4444444444444444,
             "#bd3786"
            ],
            [
             0.5555555555555556,
             "#d8576b"
            ],
            [
             0.6666666666666666,
             "#ed7953"
            ],
            [
             0.7777777777777778,
             "#fb9f3a"
            ],
            [
             0.8888888888888888,
             "#fdca26"
            ],
            [
             1,
             "#f0f921"
            ]
           ]
          },
          "colorway": [
           "#636efa",
           "#EF553B",
           "#00cc96",
           "#ab63fa",
           "#FFA15A",
           "#19d3f3",
           "#FF6692",
           "#B6E880",
           "#FF97FF",
           "#FECB52"
          ],
          "font": {
           "color": "#2a3f5f"
          },
          "geo": {
           "bgcolor": "white",
           "lakecolor": "white",
           "landcolor": "#E5ECF6",
           "showlakes": true,
           "showland": true,
           "subunitcolor": "white"
          },
          "hoverlabel": {
           "align": "left"
          },
          "hovermode": "closest",
          "mapbox": {
           "style": "light"
          },
          "paper_bgcolor": "white",
          "plot_bgcolor": "#E5ECF6",
          "polar": {
           "angularaxis": {
            "gridcolor": "white",
            "linecolor": "white",
            "ticks": ""
           },
           "bgcolor": "#E5ECF6",
           "radialaxis": {
            "gridcolor": "white",
            "linecolor": "white",
            "ticks": ""
           }
          },
          "scene": {
           "xaxis": {
            "backgroundcolor": "#E5ECF6",
            "gridcolor": "white",
            "gridwidth": 2,
            "linecolor": "white",
            "showbackground": true,
            "ticks": "",
            "zerolinecolor": "white"
           },
           "yaxis": {
            "backgroundcolor": "#E5ECF6",
            "gridcolor": "white",
            "gridwidth": 2,
            "linecolor": "white",
            "showbackground": true,
            "ticks": "",
            "zerolinecolor": "white"
           },
           "zaxis": {
            "backgroundcolor": "#E5ECF6",
            "gridcolor": "white",
            "gridwidth": 2,
            "linecolor": "white",
            "showbackground": true,
            "ticks": "",
            "zerolinecolor": "white"
           }
          },
          "shapedefaults": {
           "line": {
            "color": "#2a3f5f"
           }
          },
          "ternary": {
           "aaxis": {
            "gridcolor": "white",
            "linecolor": "white",
            "ticks": ""
           },
           "baxis": {
            "gridcolor": "white",
            "linecolor": "white",
            "ticks": ""
           },
           "bgcolor": "#E5ECF6",
           "caxis": {
            "gridcolor": "white",
            "linecolor": "white",
            "ticks": ""
           }
          },
          "title": {
           "x": 0.05
          },
          "xaxis": {
           "automargin": true,
           "gridcolor": "white",
           "linecolor": "white",
           "ticks": "",
           "title": {
            "standoff": 15
           },
           "zerolinecolor": "white",
           "zerolinewidth": 2
          },
          "yaxis": {
           "automargin": true,
           "gridcolor": "white",
           "linecolor": "white",
           "ticks": "",
           "title": {
            "standoff": 15
           },
           "zerolinecolor": "white",
           "zerolinewidth": 2
          }
         }
        },
        "width": 650
       }
      }
     },
     "metadata": {},
     "output_type": "display_data"
    }
   ],
   "source": [
    "\n",
    "#Include the traces we want to plot and create a figure\n",
    "data = [trace_edges, trace_nodes]\n",
    "fig = go.Figure(data=data, layout=layout)\n",
    "\n",
    "fig.show()"
   ]
  },
  {
   "cell_type": "code",
   "execution_count": null,
   "metadata": {},
   "outputs": [
    {
     "data": {
      "image/png": "[encoded data removed]",
      "text/plain": [
       "<rdkit.Chem.rdchem.Mol at 0x7f97aa51e7b0>"
      ]
     },
     "execution_count": 173,
     "metadata": {},
     "output_type": "execute_result"
    }
   ],
   "source": [
    "mol"
   ]
  },
  {
   "cell_type": "code",
   "execution_count": null,
   "metadata": {},
   "outputs": [],
   "source": []
  }
 ],
 "metadata": {
  "kernelspec": {
   "display_name": "2020Woo",
   "language": "python",
   "name": "python3"
  },
  "language_info": {
   "codemirror_mode": {
    "name": "ipython",
    "version": 3
   },
   "file_extension": ".py",
   "mimetype": "text/x-python",
   "name": "python",
   "nbconvert_exporter": "python",
   "pygments_lexer": "ipython3",
   "version": "3.8.3"
  },
  "orig_nbformat": 4
 },
 "nbformat": 4,
 "nbformat_minor": 2
}
